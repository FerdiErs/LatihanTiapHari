{
  "nbformat": 4,
  "nbformat_minor": 0,
  "metadata": {
    "colab": {
      "name": "ChatBot Indonesia.ipynb",
      "provenance": [],
      "authorship_tag": "ABX9TyPazUZUlXtHIqXO9Zyb3amD",
      "include_colab_link": true
    },
    "kernelspec": {
      "name": "python3",
      "display_name": "Python 3"
    },
    "language_info": {
      "name": "python"
    }
  },
  "cells": [
    {
      "cell_type": "markdown",
      "metadata": {
        "id": "view-in-github",
        "colab_type": "text"
      },
      "source": [
        "<a href=\"https://colab.research.google.com/github/FerdiErs/Tugas2/blob/main/ChatBot_Indonesia.ipynb\" target=\"_parent\"><img src=\"https://colab.research.google.com/assets/colab-badge.svg\" alt=\"Open In Colab\"/></a>"
      ]
    },
    {
      "cell_type": "code",
      "metadata": {
        "colab": {
          "base_uri": "https://localhost:8080/"
        },
        "id": "DPSnDk_NPBQb",
        "outputId": "3fd43c0a-c754-4861-c74c-aed6e156df72"
      },
      "source": [
        "!pip install newspaper3k"
      ],
      "execution_count": null,
      "outputs": [
        {
          "output_type": "stream",
          "name": "stdout",
          "text": [
            "Requirement already satisfied: newspaper3k in /usr/local/lib/python3.7/dist-packages (0.2.8)\n",
            "Requirement already satisfied: feedparser>=5.2.1 in /usr/local/lib/python3.7/dist-packages (from newspaper3k) (6.0.8)\n",
            "Requirement already satisfied: beautifulsoup4>=4.4.1 in /usr/local/lib/python3.7/dist-packages (from newspaper3k) (4.6.3)\n",
            "Requirement already satisfied: tldextract>=2.0.1 in /usr/local/lib/python3.7/dist-packages (from newspaper3k) (3.1.2)\n",
            "Requirement already satisfied: python-dateutil>=2.5.3 in /usr/local/lib/python3.7/dist-packages (from newspaper3k) (2.8.2)\n",
            "Requirement already satisfied: lxml>=3.6.0 in /usr/local/lib/python3.7/dist-packages (from newspaper3k) (4.2.6)\n",
            "Requirement already satisfied: PyYAML>=3.11 in /usr/local/lib/python3.7/dist-packages (from newspaper3k) (3.13)\n",
            "Requirement already satisfied: nltk>=3.2.1 in /usr/local/lib/python3.7/dist-packages (from newspaper3k) (3.2.5)\n",
            "Requirement already satisfied: jieba3k>=0.35.1 in /usr/local/lib/python3.7/dist-packages (from newspaper3k) (0.35.1)\n",
            "Requirement already satisfied: tinysegmenter==0.3 in /usr/local/lib/python3.7/dist-packages (from newspaper3k) (0.3)\n",
            "Requirement already satisfied: feedfinder2>=0.0.4 in /usr/local/lib/python3.7/dist-packages (from newspaper3k) (0.0.4)\n",
            "Requirement already satisfied: Pillow>=3.3.0 in /usr/local/lib/python3.7/dist-packages (from newspaper3k) (7.1.2)\n",
            "Requirement already satisfied: requests>=2.10.0 in /usr/local/lib/python3.7/dist-packages (from newspaper3k) (2.23.0)\n",
            "Requirement already satisfied: cssselect>=0.9.2 in /usr/local/lib/python3.7/dist-packages (from newspaper3k) (1.1.0)\n",
            "Requirement already satisfied: six in /usr/local/lib/python3.7/dist-packages (from feedfinder2>=0.0.4->newspaper3k) (1.15.0)\n",
            "Requirement already satisfied: sgmllib3k in /usr/local/lib/python3.7/dist-packages (from feedparser>=5.2.1->newspaper3k) (1.0.0)\n",
            "Requirement already satisfied: certifi>=2017.4.17 in /usr/local/lib/python3.7/dist-packages (from requests>=2.10.0->newspaper3k) (2021.5.30)\n",
            "Requirement already satisfied: idna<3,>=2.5 in /usr/local/lib/python3.7/dist-packages (from requests>=2.10.0->newspaper3k) (2.10)\n",
            "Requirement already satisfied: chardet<4,>=3.0.2 in /usr/local/lib/python3.7/dist-packages (from requests>=2.10.0->newspaper3k) (3.0.4)\n",
            "Requirement already satisfied: urllib3!=1.25.0,!=1.25.1,<1.26,>=1.21.1 in /usr/local/lib/python3.7/dist-packages (from requests>=2.10.0->newspaper3k) (1.24.3)\n",
            "Requirement already satisfied: filelock>=3.0.8 in /usr/local/lib/python3.7/dist-packages (from tldextract>=2.0.1->newspaper3k) (3.3.0)\n",
            "Requirement already satisfied: requests-file>=1.4 in /usr/local/lib/python3.7/dist-packages (from tldextract>=2.0.1->newspaper3k) (1.5.1)\n"
          ]
        }
      ]
    },
    {
      "cell_type": "code",
      "metadata": {
        "id": "rJOsCadvT34_"
      },
      "source": [
        "# Import library\n",
        "from newspaper import Article\n",
        "import random\n",
        "import nltk\n",
        "import string\n",
        "from sklearn.feature_extraction.text import CountVectorizer\n",
        "from sklearn.metrics.pairwise import cosine_similarity\n",
        "import numpy as np\n",
        "import warnings\n",
        "warnings.filterwarnings('ignore')"
      ],
      "execution_count": null,
      "outputs": []
    },
    {
      "cell_type": "code",
      "metadata": {
        "colab": {
          "base_uri": "https://localhost:8080/"
        },
        "id": "piO3_Pp6T9sU",
        "outputId": "f6fb4271-0f67-4c1e-decd-fff078abc521"
      },
      "source": [
        "nltk.download('punkt', quiet=True)"
      ],
      "execution_count": null,
      "outputs": [
        {
          "output_type": "execute_result",
          "data": {
            "text/plain": [
              "True"
            ]
          },
          "metadata": {},
          "execution_count": 5
        }
      ]
    },
    {
      "cell_type": "code",
      "metadata": {
        "colab": {
          "base_uri": "https://localhost:8080/"
        },
        "id": "W2aGqGVwUa21",
        "outputId": "bba9a943-f89f-4e18-b39d-de0fbbba0c72"
      },
      "source": [
        "article = Article(\"https://www.cnbcindonesia.com/tech/20211026142531-37-286675/bukan-shiba-inu-elon-musk-hanya-pegang-3-uang-kripto-ini\")\n",
        "article.download()\n",
        "article.parse()\n",
        "article.nlp()\n",
        "corpus1 = article.text\n",
        "print(corpus1)"
      ],
      "execution_count": null,
      "outputs": [
        {
          "output_type": "stream",
          "name": "stdout",
          "text": [
            "Jakarta, CNBC Indonesia - Orang terkaya di dunia Elon Musk punya pengaruh besar di dunia cryptocurrency (uang kripto). Satu kicauannya di Twitter bisa bikin harga uang kripto naik dan turun dengan cepat.\n",
            "\n",
            "Contoh terbaru adalah ketika ia berkicau di Twitter dengan menampilkan pelihara barunya bernama Floki. Ini adalah jenis anjing Shiba Inu.\n",
            "\n",
            "Kicauan ini langsung direspons oleh investor dengan memborong uang kripto Shiba Inu. Harganya melesat hingga 400% dalam sepekan dan membuat kapitalisasi pasarnya mendekati US$14 miliar.\n",
            "\n",
            "Besarnya pengaruh Elon Musk di dunia kripto membuat salah satu pengikutnya di Twitter bertanya seberapa banyak koin digital Shiba Inu yang dimiliki. Ternyata ia tidak memiliki koin digital itu.\n",
            "\n",
            "Foto: Elon Musk mengungkap koin kripto yang dimilikinya (Doc. Twitter) Foto: Elon Musk mengungkap koin kripto yang dimilikinya (Doc. Twitter)\n",
            "\n",
            "Elon Musk mengaku ia hanya memegang Bitcoin, ethereum, dan Dogecoin.\n",
            "\n",
            "\"Seperti yang saya katakan sebelumnya jangan pertaruhkan semuanya di kripto,\" ujar Elon Musk seperti dikutip dari Twitter Selasa (26/10/2021). \"Nilai sejati adalah membangun produk dan memberikan layanan kepada sesama manusia, bukan uang dalam bentuk apa pun.\"\n",
            "\n",
            "Ia juga menjelaskan pada salah satu pengikutnya di Twitter alasan secara khusus mendukung Dogecoin, koin digital yang terinspirasi dari meme lelucon pada 2013. Semuanya berawal setelah ia mendengar tentang Dogecoin dari karyawannya.\n",
            "\n",
            "\"Banyak orang yang Saya ajak berbicara mulai dari jalur produksi di Tesla hingga pembuat roket di SpaceX yang memiliki Doge,\" terangnya. \"Mereka bukan ahli keuangan atau ahli teknologi Silicon Valley. Itu sebabnya saya memutuskan untuk mendukung Doge - rasanya seperti kripto banyak orang.\n"
          ]
        }
      ]
    },
    {
      "cell_type": "code",
      "metadata": {
        "colab": {
          "base_uri": "https://localhost:8080/"
        },
        "id": "SAo_zeOWUizd",
        "outputId": "e8b1cca7-2739-4320-b8a5-2d649a063fd5"
      },
      "source": [
        "article = Article(\"https://money.kompas.com/read/2021/05/23/060203826/mengenal-lebih-jauh-beberapa-aset-kripto-dari-indonesia?page=all\")\n",
        "article.download()\n",
        "article.parse()\n",
        "article.nlp()\n",
        "corpus2 = article.text\n",
        "print(corpus2)"
      ],
      "execution_count": null,
      "outputs": [
        {
          "output_type": "stream",
          "name": "stdout",
          "text": [
            "JAKARTA, KOMPAS.com - Semakin populernya dan berkembangnya industri aset kripto di Indonesia pada akhirnya turut membuat beberapa perusahaan cryptocurrency mencari peluang. Salah satunya adalah dengan menerbitkan aset kripto.\n",
            "\n",
            "Jadi tak mengherankan jika saat ini sudah ada beberapa aset kripto yang berasal dari dalam negeri.\n",
            "\n",
            "Salah satunya adalah Toko Token (TKO) yang diterbitkan oleh Tokocrypto, salah satu exchange yang sudah diakui resmi oleh Bappebti.\n",
            "\n",
            "TKO diluncurkan pada akhir Maret silam dan menjadi proyek kripto lokal Indonesia pertama yang menyediakan model token hybrid, yakni utilitas CeFi dan DeFi.\n",
            "\n",
            "Baca juga: Pemerintah China Perketat Aturan Aset Kripto, Harga Bitcoin dkk Jeblok\n",
            "\n",
            "Dalam utilitas CeFi, TKO dapat digunakan dalam program tabungan seperti TKO Deposit, TKO Rebate, TKO Savings dan TKO Cashback. Sementara dalam platform DeFi, TKO dapat digunakan pada farming pools dan lending.\n",
            "\n",
            "Dalam pengembangan utilitas terbarunya, Tokocrypto menghadirkan layanan staking dan saving untuk TKO di jaringan Binance.\n",
            "\n",
            "Dapatkan informasi, inspirasi dan insight di email kamu.\n",
            "\n",
            "Daftarkan email\n",
            "\n",
            "Melalui staking dan saving, investor yang mengunci TKO-nya akan mendapat bunga berdasarkan durasi penyimpanannya.\n",
            "\n",
            "Adapun, merujuk Coinmarketcap.com, TKO saat ini berada pada peringkat 245 dengan total market cap sebesar 233 juta dollar AS. Dari sisi harga, TKO sempat menyentuh all time high (ATH) pada 4,8 dollar AS per TKO pada 3 Mei silam. Sementara pada saat ini, harganya berada di level 2,01 dollar AS per TKO.\n",
            "\n",
            "Head of Public Relations Tokocrypto Rieka Handayani menuturkan, pihaknya saat ini masih akan terus mengembangkan utility TKO sesuai dengan sisi kepatuhan dari regulasi yang ada di Indonesia.\n",
            "\n",
            "Baca juga: Mengenal YFI, Aset Kripto yang Harganya Tembus Rp 1 Miliar\n",
            "\n",
            "Secara jangka panjang, ia berharap TKO bisa menjadi Indonesia’s People Token seiring token ini bisa menjadi kendaraan yang paling tepat untuk mewujudkan potensi yang tidak terbatas yang bisa dicapai melalui teknologi blockchain.\n",
            "\n",
            "“Untuk saat ini, plan yang sedang berjalan di TKO adalah Binance Saving & Binance Staking, ForTube, dan Bakeryswap. Kriptoversity juga akan kami re-aktifkan kembali, kami juga sedang mempersiapkan NFT arcade/marketplace yaitu TKONFT,” kata Rieka kepada Kontan.co.id, Jumat (21/5/2021).\n",
            "\n",
            "Walaupun mengalami koreksi setelah menyentuh ATH, Rieka mengaku tidak khawatir karena koreksi tersebut merupakan hal yang wajar terjadi di pasar kripto.\n",
            "\n",
            "Ia yakin prospek TKO masih akan positif seiring dukungan dari para komunitas. Terlebih, TKO yang memang lahir dari komunitas dan untuk komunitas.\n",
            "\n",
            "Selain TKO, terdapat juga Zipmex Token (ZMT) milik Zipmex Exchange. Merujuk Whitepaper ZMT, awal mula diciptakannya token ini adalah untuk meningkatkan dan mempromosikan ekosistem Zipmex. Serta, memberikan imbalan dan keuntungan kepada komunitas pengguna Zipmex.\n",
            "\n",
            "Kini Zipmex juga memfasilitasi para pemilik ZMT untuk melakukan staking dan akan mendapatkan imbalan berupa ZipUp yang bisa meningkatkan cashback saat menggunakan ZipPay. Adapun masa staking yang ditawarkan adalah 3 bulan dengan presentasi hasil tahunan (APY) sebesar 16 persen.\n",
            "\n",
            "Baca juga: Bitcoin hingga Dogecoin Terjun Bebas, Ini 10 Aset Kripto Paling Cuan Dalam Sepekan\n",
            "\n",
            "Merujuk Coinmarketcap.com, Jumat (21/5/2021) pukul 17.15 WIB, ZMT berada di level 2,78 dollar AS per ZMT dengan total marketcap sebesar 166 juta dollar AS.\n",
            "\n",
            "Aset kripto asal Indonesia lainnya adalah Token XAU keluaran Xaurius yang menjadikan emas Antam sebagai aset dasar. Mengusung konsep stable coin, maka token XAU mempunyai nilai yang terkait dengan aset nyata, di mana 1 XAU = 1 gram emas Antam\n",
            "\n",
            "Direktur Xaurius Nicco D Lawrence menjelaskan, latar belakang diciptakannya token XAU adalah upayanya ingin mengubah industri emas yang sudah ada dengan menciptakan infrastruktur berbasis blockchain.\n",
            "\n",
            "Tokenisasi emas lewat blockchain ini diharapkan dapat memastikan transaksi yang aman dan transparan.\n",
            "\n",
            "Selain itu, salah satu keunggulan yang ditawarkan Token XAU adalah dapat mempermudah transaksi jual beli emas dan dapat mengirimkan emas hanya dengan hitungan detik saja.\n",
            "\n",
            "Sementara untuk keamanan, Nicco menyebut semua emas XAU dipastikan telah tersertifikasi oleh Antam. Selain itu, emas fisiknya juga akan disimpan di brankas milik Xaurius yang diaudit oleh pihak independen setiap tiga bulan sekali.\n",
            "\n",
            "Berbeda dengan token-token sebelumnya yang bisa dibeli langsung lewat exchange, token XAU saat ini baru bisa dibeli melalui website resmi Xaurius.\n",
            "\n",
            "Namun, Nicco memastikan pihaknya saat ini sedang menjajaki untuk melisting XAU di beberapa bursa aset kripto di Indonesia.\n",
            "\n",
            "“Kami berharap transaksi XAU segera bisa dilakukan di exchange paling lambat pada akhir semester I-2021. Jika sudah listing, ini tentunya akan semakin memudahkan bagi para investor untuk melakukan transaksi, karena bisa langsung lewat platform exchange tersebut,” imbuh Nicco.\n",
            "\n",
            "Baca juga: Mau Investasi Aset Kripto? Simak Dulu Tiga Hal Penting Ini\n",
            "\n",
            "Selain melakukan listing di exchange, Nicco menuturkan saat ini Xaurius juga secara intensif mengembangkan bisnisnya. Mulai dari menyiapkan aplikasi mobile Xaurius, menyediakan fitur seperti buyback guarantee, dan berbagai rencana lainnya guna memperkaya kegunaan token XAU dan semakin memudahkan para pengguna.\n",
            "\n",
            "Menurut Co-founder Cryptowatch dan pengelola channel Duit Pintar Christopher Tahir, token seperti TKO atau ZMT saat ini cenderung lebih menarik digunakan sebatas untuk trading saja. Karena alternative coin seperti TKO ataupun ZMT punya kecenderungan kinerja yang lebih baik dibanding koin utama ketika pasar berada dalam tren bullish.\n",
            "\n",
            "“Namun, dari sisi use and case, keduanya saat ini masih sebatas digunakan untuk transaksi dalam exchange masing-masing. Sehingga prospek kenaikan harganya ke depan akan cenderung bergantung dengan pertumbuhan penggunanya,” jelas Christopher.\n",
            "\n",
            "Sementara terkait fitur pemberian bunga ketika investor melakukan staking terhadap koin tersebut, Christopher menilai itu memang bisa menjadi bonus bagi investornya. Namun, ia tetap mengingatkan, ketika volatilitas terjadi baik TKO maupun ZMT berpotensi mengalami koreksi lebih dalam dibanding Bitcoin.\n",
            "\n",
            "Oleh karena itu, jika dijadikan sebagai pilihan investasi jangka panjang, Christopher masih cukup meragukannya seiring nilai use & case-nya belum teruji, apalagi ketika market mengalami crash.\n",
            "\n",
            "Baca juga: Soal Besaran Pajak Kripto, Ini Usulan Tokocrypto dan Indodax\n",
            "\n",
            "Sementara untuk XAU, ia agak menyangsikannya karena investor tidak bisa memastikan dengan pasti apakah aset tersebut benar-benar ada. Ia cukup khawatir, aset-aset tersebut rawan akan manipulasi di balik layarnya.\n",
            "\n",
            "“Mungkin ada yang akan mengklaim itu sudah diaudit, namun audit tentunya gak dilakukan setiap hari dong. Bisa aja hari ini selesai diaudit semuanya sesuai, minggu depannya barangnya tidak ada sama sekali. Jadi harus lebih berhati-hati juga,” pungkas Christopher.\n",
            "\n",
            "Berita ini telah tayang di Kontan.co.id dengan judul: Mengenal lebih jauh aset kripto dari Indonesia\n"
          ]
        }
      ]
    },
    {
      "cell_type": "code",
      "metadata": {
        "colab": {
          "base_uri": "https://localhost:8080/"
        },
        "id": "9zHh1Y0SUjRW",
        "outputId": "22c27434-f4c3-4706-e48c-645f86b8fd04"
      },
      "source": [
        "article = Article(\"https://www.cnbcindonesia.com/tech/20211008123528-37-282423/ssst-bakal-ada-lagi-koin-kripto-made-in-indonesia\")\n",
        "article.download()\n",
        "article.parse()\n",
        "article.nlp()\n",
        "corpus3 = article.text\n",
        "print(corpus3)"
      ],
      "execution_count": null,
      "outputs": [
        {
          "output_type": "stream",
          "name": "stdout",
          "text": [
            "Jakarta, CNBC Indonesia - Cryptocurrency 'Made In Indonesia' bakal meramaikan pasar koin digital. Pasalnya, anak-anak muda milenial mencoba mengembangkan sebuah koin dengan project digitalisasi & UMKM melalui Koperasi hingga pengembangan super apps.\n",
            "\n",
            "\n",
            "\n",
            "Saat ini mata uang kripto semakin menjadi primadona. Tak pelak koin andalan dari kripto yaitu Bitcoin saat tembus diharga Rp 765 juta per koinnya (8 Oktober 2021 / 12.35 WIB). Tidak hanya itu, aktifitas bursa kripto di DeFi (Decentralize Finance) maupun exchange semakin ramai dan menunjukkan peningkatan.\n",
            "\n",
            "\n",
            "\n",
            "CEO Indonesia Digital Milenial Cooperatives (IDM Co-op) M Chairul Basyar mengatakan pihaknya akan meluncurkan token kripto pada 28 Oktober 2021.\n",
            "\n",
            "\n",
            "\n",
            "\n",
            "\n",
            "\n",
            "\n",
            "\n",
            "\n",
            "\"Saat ini dalam mencari untung trading, kripto pun bisa dijadikan solusi sebagai pembiayaan proyek suatu perusahaan atau lembaga bahkan komunitas. Dengan cara meluncurkan token utilitas, investor membeli token untuk membiayai proyek pencipta token yang nantinya bisa menciptakan keuntungan bagi investor melalui naiknya harga token yang diinvestasikan tersebut,\" kata Basyar dalam keterangan persnya, Jumat (8/10/2021).\n",
            "\n",
            "\n",
            "\n",
            "Basyar melanjutkan tujuannya meluncurkan token kripto untuk membiayai proyek yang sudah disusun untuk dijalankan.\n",
            "\n",
            "\n",
            "\n",
            "Basyar juga menjelaskan, proyek yang saat ini dikerjakan adalah membantu pemerintah dalam menciptakan ekosistem digital koperasi di Indonesia, melakukan edukasi sistem keuangan digital secara merata, dan membuat aplikasi super. Koperasi ini dikelola para anak-anak muda yang menurut Basyar memiliki visi untuk berkembang lebih jauh.\n",
            "\n",
            "\n",
            "\n",
            "\n",
            "\n",
            "\n",
            "\n",
            "\n",
            "\n",
            "\"Aplikasi super diharapkan bisa menjadi kebanggaan masyarakat Indonesia yang di dalam satu genggaman semua bisa terhubung melalui messenger, bertegur sapa melalui media sosial, produktif dengan marketplace, dan serba mudah dengan fintech-nya. Jadi dalam satu aplikasi semua ada, dan ini koperasi kami ingin persembahkan untuk Indonesia,\" ungkap Basyar.\n",
            "\n",
            "\n",
            "\n",
            "Basyar mengatakan token kripto ini dapat dijadikan komoditas bukan sebagai alat pembayaran, dan berharap ke depannya koperasi IDM mampu membantu sesama koperasi yang ada di Indonesia dari pusat hingga ke desa-desa.\n",
            "\n",
            "\n",
            "\n",
            "\"Token IDM yang supply-nya 1 Miliar ini bisa dibeli melaui DeFi jaringan Binance yaitu Pancake Swap. Dan prosesnya bisa melalui exchange yang sudah terdaftar secara legal di Bappebti,\" katanya.\n",
            "\n",
            "\n",
            "\n",
            "\"Saya juga mengharapkan kepada seluruh masyarakat Indonesia yang ingin membeli token tersebut agar tidak lupa untuk melakukan riset mendalam di situs IDM Co-Op.\"\n",
            "\n",
            "\n",
            "\n",
            "\"Kami bersama Kemendag dan Kemenkop UKM ingin membuat something big terkait digitalisasi. Bahkan pada pertengahan bulan ini, IDM bersama Wamendag Jerry Sambuaga akan mengadakan bersama sebuah event AMA (Ask Me Anything) yang isinya menjawab semua pertanyaa soal ICO tersebut,\" papar Basyar lebih jauh.\n"
          ]
        }
      ]
    },
    {
      "cell_type": "code",
      "metadata": {
        "colab": {
          "base_uri": "https://localhost:8080/",
          "height": 217
        },
        "id": "b5oXVdecUxu-",
        "outputId": "d93b5b9f-1330-48a3-c0e9-871bcf49d1cf"
      },
      "source": [
        "corpus = corpus1 + corpus2 + corpus3 \n",
        "corpus"
      ],
      "execution_count": null,
      "outputs": [
        {
          "output_type": "execute_result",
          "data": {
            "application/vnd.google.colaboratory.intrinsic+json": {
              "type": "string"
            },
            "text/plain": [
              "'Jakarta, CNBC Indonesia - Orang terkaya di dunia Elon Musk punya pengaruh besar di dunia cryptocurrency (uang kripto). Satu kicauannya di Twitter bisa bikin harga uang kripto naik dan turun dengan cepat.\\n\\nContoh terbaru adalah ketika ia berkicau di Twitter dengan menampilkan pelihara barunya bernama Floki. Ini adalah jenis anjing Shiba Inu.\\n\\nKicauan ini langsung direspons oleh investor dengan memborong uang kripto Shiba Inu. Harganya melesat hingga 400% dalam sepekan dan membuat kapitalisasi pasarnya mendekati US$14 miliar.\\n\\nBesarnya pengaruh Elon Musk di dunia kripto membuat salah satu pengikutnya di Twitter bertanya seberapa banyak koin digital Shiba Inu yang dimiliki. Ternyata ia tidak memiliki koin digital itu.\\n\\nFoto: Elon Musk mengungkap koin kripto yang dimilikinya (Doc. Twitter) Foto: Elon Musk mengungkap koin kripto yang dimilikinya (Doc. Twitter)\\n\\nElon Musk mengaku ia hanya memegang Bitcoin, ethereum, dan Dogecoin.\\n\\n\"Seperti yang saya katakan sebelumnya jangan pertaruhkan semuanya di kripto,\" ujar Elon Musk seperti dikutip dari Twitter Selasa (26/10/2021). \"Nilai sejati adalah membangun produk dan memberikan layanan kepada sesama manusia, bukan uang dalam bentuk apa pun.\"\\n\\nIa juga menjelaskan pada salah satu pengikutnya di Twitter alasan secara khusus mendukung Dogecoin, koin digital yang terinspirasi dari meme lelucon pada 2013. Semuanya berawal setelah ia mendengar tentang Dogecoin dari karyawannya.\\n\\n\"Banyak orang yang Saya ajak berbicara mulai dari jalur produksi di Tesla hingga pembuat roket di SpaceX yang memiliki Doge,\" terangnya. \"Mereka bukan ahli keuangan atau ahli teknologi Silicon Valley. Itu sebabnya saya memutuskan untuk mendukung Doge - rasanya seperti kripto banyak orang.JAKARTA, KOMPAS.com - Semakin populernya dan berkembangnya industri aset kripto di Indonesia pada akhirnya turut membuat beberapa perusahaan cryptocurrency mencari peluang. Salah satunya adalah dengan menerbitkan aset kripto.\\n\\nJadi tak mengherankan jika saat ini sudah ada beberapa aset kripto yang berasal dari dalam negeri.\\n\\nSalah satunya adalah Toko Token (TKO) yang diterbitkan oleh Tokocrypto, salah satu exchange yang sudah diakui resmi oleh Bappebti.\\n\\nTKO diluncurkan pada akhir Maret silam dan menjadi proyek kripto lokal Indonesia pertama yang menyediakan model token hybrid, yakni utilitas CeFi dan DeFi.\\n\\nBaca juga: Pemerintah China Perketat Aturan Aset Kripto, Harga Bitcoin dkk Jeblok\\n\\nDalam utilitas CeFi, TKO dapat digunakan dalam program tabungan seperti TKO Deposit, TKO Rebate, TKO Savings dan TKO Cashback. Sementara dalam platform DeFi, TKO dapat digunakan pada farming pools dan lending.\\n\\nDalam pengembangan utilitas terbarunya, Tokocrypto menghadirkan layanan staking dan saving untuk TKO di jaringan Binance.\\n\\nDapatkan informasi, inspirasi dan insight di email kamu.\\n\\nDaftarkan email\\n\\nMelalui staking dan saving, investor yang mengunci TKO-nya akan mendapat bunga berdasarkan durasi penyimpanannya.\\n\\nAdapun, merujuk Coinmarketcap.com, TKO saat ini berada pada peringkat 245 dengan total market cap sebesar 233 juta dollar AS. Dari sisi harga, TKO sempat menyentuh all time high (ATH) pada 4,8 dollar AS per TKO pada 3 Mei silam. Sementara pada saat ini, harganya berada di level 2,01 dollar AS per TKO.\\n\\nHead of Public Relations Tokocrypto Rieka Handayani menuturkan, pihaknya saat ini masih akan terus mengembangkan utility TKO sesuai dengan sisi kepatuhan dari regulasi yang ada di Indonesia.\\n\\nBaca juga: Mengenal YFI, Aset Kripto yang Harganya Tembus Rp 1 Miliar\\n\\nSecara jangka panjang, ia berharap TKO bisa menjadi Indonesia’s People Token seiring token ini bisa menjadi kendaraan yang paling tepat untuk mewujudkan potensi yang tidak terbatas yang bisa dicapai melalui teknologi blockchain.\\n\\n“Untuk saat ini, plan yang sedang berjalan di TKO adalah Binance Saving & Binance Staking, ForTube, dan Bakeryswap. Kriptoversity juga akan kami re-aktifkan kembali, kami juga sedang mempersiapkan NFT arcade/marketplace yaitu TKONFT,” kata Rieka kepada Kontan.co.id, Jumat (21/5/2021).\\n\\nWalaupun mengalami koreksi setelah menyentuh ATH, Rieka mengaku tidak khawatir karena koreksi tersebut merupakan hal yang wajar terjadi di pasar kripto.\\n\\nIa yakin prospek TKO masih akan positif seiring dukungan dari para komunitas. Terlebih, TKO yang memang lahir dari komunitas dan untuk komunitas.\\n\\nSelain TKO, terdapat juga Zipmex Token (ZMT) milik Zipmex Exchange. Merujuk Whitepaper ZMT, awal mula diciptakannya token ini adalah untuk meningkatkan dan mempromosikan ekosistem Zipmex. Serta, memberikan imbalan dan keuntungan kepada komunitas pengguna Zipmex.\\n\\nKini Zipmex juga memfasilitasi para pemilik ZMT untuk melakukan staking dan akan mendapatkan imbalan berupa ZipUp yang bisa meningkatkan cashback saat menggunakan ZipPay. Adapun masa staking yang ditawarkan adalah 3 bulan dengan presentasi hasil tahunan (APY) sebesar 16 persen.\\n\\nBaca juga: Bitcoin hingga Dogecoin Terjun Bebas, Ini 10 Aset Kripto Paling Cuan Dalam Sepekan\\n\\nMerujuk Coinmarketcap.com, Jumat (21/5/2021) pukul 17.15 WIB, ZMT berada di level 2,78 dollar AS per ZMT dengan total marketcap sebesar 166 juta dollar AS.\\n\\nAset kripto asal Indonesia lainnya adalah Token XAU keluaran Xaurius yang menjadikan emas Antam sebagai aset dasar. Mengusung konsep stable coin, maka token XAU mempunyai nilai yang terkait dengan aset nyata, di mana 1 XAU = 1 gram emas Antam\\n\\nDirektur Xaurius Nicco D Lawrence menjelaskan, latar belakang diciptakannya token XAU adalah upayanya ingin mengubah industri emas yang sudah ada dengan menciptakan infrastruktur berbasis blockchain.\\n\\nTokenisasi emas lewat blockchain ini diharapkan dapat memastikan transaksi yang aman dan transparan.\\n\\nSelain itu, salah satu keunggulan yang ditawarkan Token XAU adalah dapat mempermudah transaksi jual beli emas dan dapat mengirimkan emas hanya dengan hitungan detik saja.\\n\\nSementara untuk keamanan, Nicco menyebut semua emas XAU dipastikan telah tersertifikasi oleh Antam. Selain itu, emas fisiknya juga akan disimpan di brankas milik Xaurius yang diaudit oleh pihak independen setiap tiga bulan sekali.\\n\\nBerbeda dengan token-token sebelumnya yang bisa dibeli langsung lewat exchange, token XAU saat ini baru bisa dibeli melalui website resmi Xaurius.\\n\\nNamun, Nicco memastikan pihaknya saat ini sedang menjajaki untuk melisting XAU di beberapa bursa aset kripto di Indonesia.\\n\\n“Kami berharap transaksi XAU segera bisa dilakukan di exchange paling lambat pada akhir semester I-2021. Jika sudah listing, ini tentunya akan semakin memudahkan bagi para investor untuk melakukan transaksi, karena bisa langsung lewat platform exchange tersebut,” imbuh Nicco.\\n\\nBaca juga: Mau Investasi Aset Kripto? Simak Dulu Tiga Hal Penting Ini\\n\\nSelain melakukan listing di exchange, Nicco menuturkan saat ini Xaurius juga secara intensif mengembangkan bisnisnya. Mulai dari menyiapkan aplikasi mobile Xaurius, menyediakan fitur seperti buyback guarantee, dan berbagai rencana lainnya guna memperkaya kegunaan token XAU dan semakin memudahkan para pengguna.\\n\\nMenurut Co-founder Cryptowatch dan pengelola channel Duit Pintar Christopher Tahir, token seperti TKO atau ZMT saat ini cenderung lebih menarik digunakan sebatas untuk trading saja. Karena alternative coin seperti TKO ataupun ZMT punya kecenderungan kinerja yang lebih baik dibanding koin utama ketika pasar berada dalam tren bullish.\\n\\n“Namun, dari sisi use and case, keduanya saat ini masih sebatas digunakan untuk transaksi dalam exchange masing-masing. Sehingga prospek kenaikan harganya ke depan akan cenderung bergantung dengan pertumbuhan penggunanya,” jelas Christopher.\\n\\nSementara terkait fitur pemberian bunga ketika investor melakukan staking terhadap koin tersebut, Christopher menilai itu memang bisa menjadi bonus bagi investornya. Namun, ia tetap mengingatkan, ketika volatilitas terjadi baik TKO maupun ZMT berpotensi mengalami koreksi lebih dalam dibanding Bitcoin.\\n\\nOleh karena itu, jika dijadikan sebagai pilihan investasi jangka panjang, Christopher masih cukup meragukannya seiring nilai use & case-nya belum teruji, apalagi ketika market mengalami crash.\\n\\nBaca juga: Soal Besaran Pajak Kripto, Ini Usulan Tokocrypto dan Indodax\\n\\nSementara untuk XAU, ia agak menyangsikannya karena investor tidak bisa memastikan dengan pasti apakah aset tersebut benar-benar ada. Ia cukup khawatir, aset-aset tersebut rawan akan manipulasi di balik layarnya.\\n\\n“Mungkin ada yang akan mengklaim itu sudah diaudit, namun audit tentunya gak dilakukan setiap hari dong. Bisa aja hari ini selesai diaudit semuanya sesuai, minggu depannya barangnya tidak ada sama sekali. Jadi harus lebih berhati-hati juga,” pungkas Christopher.\\n\\nBerita ini telah tayang di Kontan.co.id dengan judul: Mengenal lebih jauh aset kripto dari IndonesiaJakarta, CNBC Indonesia - Cryptocurrency \\'Made In Indonesia\\' bakal meramaikan pasar koin digital. Pasalnya, anak-anak muda milenial mencoba mengembangkan sebuah koin dengan project digitalisasi & UMKM melalui Koperasi hingga pengembangan super apps.\\n\\n\\n\\nSaat ini mata uang kripto semakin menjadi primadona. Tak pelak koin andalan dari kripto yaitu Bitcoin saat tembus diharga Rp 765 juta per koinnya (8 Oktober 2021 / 12.35 WIB). Tidak hanya itu, aktifitas bursa kripto di DeFi (Decentralize Finance) maupun exchange semakin ramai dan menunjukkan peningkatan.\\n\\n\\n\\nCEO Indonesia Digital Milenial Cooperatives (IDM Co-op) M Chairul Basyar mengatakan pihaknya akan meluncurkan token kripto pada 28 Oktober 2021.\\n\\n\\n\\n\\n\\n\\n\\n\\n\\n\"Saat ini dalam mencari untung trading, kripto pun bisa dijadikan solusi sebagai pembiayaan proyek suatu perusahaan atau lembaga bahkan komunitas. Dengan cara meluncurkan token utilitas, investor membeli token untuk membiayai proyek pencipta token yang nantinya bisa menciptakan keuntungan bagi investor melalui naiknya harga token yang diinvestasikan tersebut,\" kata Basyar dalam keterangan persnya, Jumat (8/10/2021).\\n\\n\\n\\nBasyar melanjutkan tujuannya meluncurkan token kripto untuk membiayai proyek yang sudah disusun untuk dijalankan.\\n\\n\\n\\nBasyar juga menjelaskan, proyek yang saat ini dikerjakan adalah membantu pemerintah dalam menciptakan ekosistem digital koperasi di Indonesia, melakukan edukasi sistem keuangan digital secara merata, dan membuat aplikasi super. Koperasi ini dikelola para anak-anak muda yang menurut Basyar memiliki visi untuk berkembang lebih jauh.\\n\\n\\n\\n\\n\\n\\n\\n\\n\\n\"Aplikasi super diharapkan bisa menjadi kebanggaan masyarakat Indonesia yang di dalam satu genggaman semua bisa terhubung melalui messenger, bertegur sapa melalui media sosial, produktif dengan marketplace, dan serba mudah dengan fintech-nya. Jadi dalam satu aplikasi semua ada, dan ini koperasi kami ingin persembahkan untuk Indonesia,\" ungkap Basyar.\\n\\n\\n\\nBasyar mengatakan token kripto ini dapat dijadikan komoditas bukan sebagai alat pembayaran, dan berharap ke depannya koperasi IDM mampu membantu sesama koperasi yang ada di Indonesia dari pusat hingga ke desa-desa.\\n\\n\\n\\n\"Token IDM yang supply-nya 1 Miliar ini bisa dibeli melaui DeFi jaringan Binance yaitu Pancake Swap. Dan prosesnya bisa melalui exchange yang sudah terdaftar secara legal di Bappebti,\" katanya.\\n\\n\\n\\n\"Saya juga mengharapkan kepada seluruh masyarakat Indonesia yang ingin membeli token tersebut agar tidak lupa untuk melakukan riset mendalam di situs IDM Co-Op.\"\\n\\n\\n\\n\"Kami bersama Kemendag dan Kemenkop UKM ingin membuat something big terkait digitalisasi. Bahkan pada pertengahan bulan ini, IDM bersama Wamendag Jerry Sambuaga akan mengadakan bersama sebuah event AMA (Ask Me Anything) yang isinya menjawab semua pertanyaa soal ICO tersebut,\" papar Basyar lebih jauh.'"
            ]
          },
          "metadata": {},
          "execution_count": 9
        }
      ]
    },
    {
      "cell_type": "markdown",
      "metadata": {
        "id": "io0gQqT2U4pm"
      },
      "source": [
        "Tokenizing"
      ]
    },
    {
      "cell_type": "code",
      "metadata": {
        "colab": {
          "base_uri": "https://localhost:8080/"
        },
        "id": "Mf6A8f34U364",
        "outputId": "b2b270f1-d28c-422f-c779-40f2350114eb"
      },
      "source": [
        "text = corpus\n",
        "sentence_list = nltk.sent_tokenize(text) #A list of senetences\n",
        "\n",
        "# Print the list of sentences\n",
        "print(sentence_list)"
      ],
      "execution_count": null,
      "outputs": [
        {
          "output_type": "stream",
          "name": "stdout",
          "text": [
            "['Jakarta, CNBC Indonesia - Orang terkaya di dunia Elon Musk punya pengaruh besar di dunia cryptocurrency (uang kripto).', 'Satu kicauannya di Twitter bisa bikin harga uang kripto naik dan turun dengan cepat.', 'Contoh terbaru adalah ketika ia berkicau di Twitter dengan menampilkan pelihara barunya bernama Floki.', 'Ini adalah jenis anjing Shiba Inu.', 'Kicauan ini langsung direspons oleh investor dengan memborong uang kripto Shiba Inu.', 'Harganya melesat hingga 400% dalam sepekan dan membuat kapitalisasi pasarnya mendekati US$14 miliar.', 'Besarnya pengaruh Elon Musk di dunia kripto membuat salah satu pengikutnya di Twitter bertanya seberapa banyak koin digital Shiba Inu yang dimiliki.', 'Ternyata ia tidak memiliki koin digital itu.', 'Foto: Elon Musk mengungkap koin kripto yang dimilikinya (Doc.', 'Twitter) Foto: Elon Musk mengungkap koin kripto yang dimilikinya (Doc.', 'Twitter)\\n\\nElon Musk mengaku ia hanya memegang Bitcoin, ethereum, dan Dogecoin.', '\"Seperti yang saya katakan sebelumnya jangan pertaruhkan semuanya di kripto,\" ujar Elon Musk seperti dikutip dari Twitter Selasa (26/10/2021).', '\"Nilai sejati adalah membangun produk dan memberikan layanan kepada sesama manusia, bukan uang dalam bentuk apa pun.\"', 'Ia juga menjelaskan pada salah satu pengikutnya di Twitter alasan secara khusus mendukung Dogecoin, koin digital yang terinspirasi dari meme lelucon pada 2013.', 'Semuanya berawal setelah ia mendengar tentang Dogecoin dari karyawannya.', '\"Banyak orang yang Saya ajak berbicara mulai dari jalur produksi di Tesla hingga pembuat roket di SpaceX yang memiliki Doge,\" terangnya.', '\"Mereka bukan ahli keuangan atau ahli teknologi Silicon Valley.', 'Itu sebabnya saya memutuskan untuk mendukung Doge - rasanya seperti kripto banyak orang.JAKARTA, KOMPAS.com - Semakin populernya dan berkembangnya industri aset kripto di Indonesia pada akhirnya turut membuat beberapa perusahaan cryptocurrency mencari peluang.', 'Salah satunya adalah dengan menerbitkan aset kripto.', 'Jadi tak mengherankan jika saat ini sudah ada beberapa aset kripto yang berasal dari dalam negeri.', 'Salah satunya adalah Toko Token (TKO) yang diterbitkan oleh Tokocrypto, salah satu exchange yang sudah diakui resmi oleh Bappebti.', 'TKO diluncurkan pada akhir Maret silam dan menjadi proyek kripto lokal Indonesia pertama yang menyediakan model token hybrid, yakni utilitas CeFi dan DeFi.', 'Baca juga: Pemerintah China Perketat Aturan Aset Kripto, Harga Bitcoin dkk Jeblok\\n\\nDalam utilitas CeFi, TKO dapat digunakan dalam program tabungan seperti TKO Deposit, TKO Rebate, TKO Savings dan TKO Cashback.', 'Sementara dalam platform DeFi, TKO dapat digunakan pada farming pools dan lending.', 'Dalam pengembangan utilitas terbarunya, Tokocrypto menghadirkan layanan staking dan saving untuk TKO di jaringan Binance.', 'Dapatkan informasi, inspirasi dan insight di email kamu.', 'Daftarkan email\\n\\nMelalui staking dan saving, investor yang mengunci TKO-nya akan mendapat bunga berdasarkan durasi penyimpanannya.', 'Adapun, merujuk Coinmarketcap.com, TKO saat ini berada pada peringkat 245 dengan total market cap sebesar 233 juta dollar AS.', 'Dari sisi harga, TKO sempat menyentuh all time high (ATH) pada 4,8 dollar AS per TKO pada 3 Mei silam.', 'Sementara pada saat ini, harganya berada di level 2,01 dollar AS per TKO.', 'Head of Public Relations Tokocrypto Rieka Handayani menuturkan, pihaknya saat ini masih akan terus mengembangkan utility TKO sesuai dengan sisi kepatuhan dari regulasi yang ada di Indonesia.', 'Baca juga: Mengenal YFI, Aset Kripto yang Harganya Tembus Rp 1 Miliar\\n\\nSecara jangka panjang, ia berharap TKO bisa menjadi Indonesia’s People Token seiring token ini bisa menjadi kendaraan yang paling tepat untuk mewujudkan potensi yang tidak terbatas yang bisa dicapai melalui teknologi blockchain.', '“Untuk saat ini, plan yang sedang berjalan di TKO adalah Binance Saving & Binance Staking, ForTube, dan Bakeryswap.', 'Kriptoversity juga akan kami re-aktifkan kembali, kami juga sedang mempersiapkan NFT arcade/marketplace yaitu TKONFT,” kata Rieka kepada Kontan.co.id, Jumat (21/5/2021).', 'Walaupun mengalami koreksi setelah menyentuh ATH, Rieka mengaku tidak khawatir karena koreksi tersebut merupakan hal yang wajar terjadi di pasar kripto.', 'Ia yakin prospek TKO masih akan positif seiring dukungan dari para komunitas.', 'Terlebih, TKO yang memang lahir dari komunitas dan untuk komunitas.', 'Selain TKO, terdapat juga Zipmex Token (ZMT) milik Zipmex Exchange.', 'Merujuk Whitepaper ZMT, awal mula diciptakannya token ini adalah untuk meningkatkan dan mempromosikan ekosistem Zipmex.', 'Serta, memberikan imbalan dan keuntungan kepada komunitas pengguna Zipmex.', 'Kini Zipmex juga memfasilitasi para pemilik ZMT untuk melakukan staking dan akan mendapatkan imbalan berupa ZipUp yang bisa meningkatkan cashback saat menggunakan ZipPay.', 'Adapun masa staking yang ditawarkan adalah 3 bulan dengan presentasi hasil tahunan (APY) sebesar 16 persen.', 'Baca juga: Bitcoin hingga Dogecoin Terjun Bebas, Ini 10 Aset Kripto Paling Cuan Dalam Sepekan\\n\\nMerujuk Coinmarketcap.com, Jumat (21/5/2021) pukul 17.15 WIB, ZMT berada di level 2,78 dollar AS per ZMT dengan total marketcap sebesar 166 juta dollar AS.', 'Aset kripto asal Indonesia lainnya adalah Token XAU keluaran Xaurius yang menjadikan emas Antam sebagai aset dasar.', 'Mengusung konsep stable coin, maka token XAU mempunyai nilai yang terkait dengan aset nyata, di mana 1 XAU = 1 gram emas Antam\\n\\nDirektur Xaurius Nicco D Lawrence menjelaskan, latar belakang diciptakannya token XAU adalah upayanya ingin mengubah industri emas yang sudah ada dengan menciptakan infrastruktur berbasis blockchain.', 'Tokenisasi emas lewat blockchain ini diharapkan dapat memastikan transaksi yang aman dan transparan.', 'Selain itu, salah satu keunggulan yang ditawarkan Token XAU adalah dapat mempermudah transaksi jual beli emas dan dapat mengirimkan emas hanya dengan hitungan detik saja.', 'Sementara untuk keamanan, Nicco menyebut semua emas XAU dipastikan telah tersertifikasi oleh Antam.', 'Selain itu, emas fisiknya juga akan disimpan di brankas milik Xaurius yang diaudit oleh pihak independen setiap tiga bulan sekali.', 'Berbeda dengan token-token sebelumnya yang bisa dibeli langsung lewat exchange, token XAU saat ini baru bisa dibeli melalui website resmi Xaurius.', 'Namun, Nicco memastikan pihaknya saat ini sedang menjajaki untuk melisting XAU di beberapa bursa aset kripto di Indonesia.', '“Kami berharap transaksi XAU segera bisa dilakukan di exchange paling lambat pada akhir semester I-2021.', 'Jika sudah listing, ini tentunya akan semakin memudahkan bagi para investor untuk melakukan transaksi, karena bisa langsung lewat platform exchange tersebut,” imbuh Nicco.', 'Baca juga: Mau Investasi Aset Kripto?', 'Simak Dulu Tiga Hal Penting Ini\\n\\nSelain melakukan listing di exchange, Nicco menuturkan saat ini Xaurius juga secara intensif mengembangkan bisnisnya.', 'Mulai dari menyiapkan aplikasi mobile Xaurius, menyediakan fitur seperti buyback guarantee, dan berbagai rencana lainnya guna memperkaya kegunaan token XAU dan semakin memudahkan para pengguna.', 'Menurut Co-founder Cryptowatch dan pengelola channel Duit Pintar Christopher Tahir, token seperti TKO atau ZMT saat ini cenderung lebih menarik digunakan sebatas untuk trading saja.', 'Karena alternative coin seperti TKO ataupun ZMT punya kecenderungan kinerja yang lebih baik dibanding koin utama ketika pasar berada dalam tren bullish.', '“Namun, dari sisi use and case, keduanya saat ini masih sebatas digunakan untuk transaksi dalam exchange masing-masing.', 'Sehingga prospek kenaikan harganya ke depan akan cenderung bergantung dengan pertumbuhan penggunanya,” jelas Christopher.', 'Sementara terkait fitur pemberian bunga ketika investor melakukan staking terhadap koin tersebut, Christopher menilai itu memang bisa menjadi bonus bagi investornya.', 'Namun, ia tetap mengingatkan, ketika volatilitas terjadi baik TKO maupun ZMT berpotensi mengalami koreksi lebih dalam dibanding Bitcoin.', 'Oleh karena itu, jika dijadikan sebagai pilihan investasi jangka panjang, Christopher masih cukup meragukannya seiring nilai use & case-nya belum teruji, apalagi ketika market mengalami crash.', 'Baca juga: Soal Besaran Pajak Kripto, Ini Usulan Tokocrypto dan Indodax\\n\\nSementara untuk XAU, ia agak menyangsikannya karena investor tidak bisa memastikan dengan pasti apakah aset tersebut benar-benar ada.', 'Ia cukup khawatir, aset-aset tersebut rawan akan manipulasi di balik layarnya.', '“Mungkin ada yang akan mengklaim itu sudah diaudit, namun audit tentunya gak dilakukan setiap hari dong.', 'Bisa aja hari ini selesai diaudit semuanya sesuai, minggu depannya barangnya tidak ada sama sekali.', 'Jadi harus lebih berhati-hati juga,” pungkas Christopher.', \"Berita ini telah tayang di Kontan.co.id dengan judul: Mengenal lebih jauh aset kripto dari IndonesiaJakarta, CNBC Indonesia - Cryptocurrency 'Made In Indonesia' bakal meramaikan pasar koin digital.\", 'Pasalnya, anak-anak muda milenial mencoba mengembangkan sebuah koin dengan project digitalisasi & UMKM melalui Koperasi hingga pengembangan super apps.', 'Saat ini mata uang kripto semakin menjadi primadona.', 'Tak pelak koin andalan dari kripto yaitu Bitcoin saat tembus diharga Rp 765 juta per koinnya (8 Oktober 2021 / 12.35 WIB).', 'Tidak hanya itu, aktifitas bursa kripto di DeFi (Decentralize Finance) maupun exchange semakin ramai dan menunjukkan peningkatan.', 'CEO Indonesia Digital Milenial Cooperatives (IDM Co-op) M Chairul Basyar mengatakan pihaknya akan meluncurkan token kripto pada 28 Oktober 2021.', '\"Saat ini dalam mencari untung trading, kripto pun bisa dijadikan solusi sebagai pembiayaan proyek suatu perusahaan atau lembaga bahkan komunitas.', 'Dengan cara meluncurkan token utilitas, investor membeli token untuk membiayai proyek pencipta token yang nantinya bisa menciptakan keuntungan bagi investor melalui naiknya harga token yang diinvestasikan tersebut,\" kata Basyar dalam keterangan persnya, Jumat (8/10/2021).', 'Basyar melanjutkan tujuannya meluncurkan token kripto untuk membiayai proyek yang sudah disusun untuk dijalankan.', 'Basyar juga menjelaskan, proyek yang saat ini dikerjakan adalah membantu pemerintah dalam menciptakan ekosistem digital koperasi di Indonesia, melakukan edukasi sistem keuangan digital secara merata, dan membuat aplikasi super.', 'Koperasi ini dikelola para anak-anak muda yang menurut Basyar memiliki visi untuk berkembang lebih jauh.', '\"Aplikasi super diharapkan bisa menjadi kebanggaan masyarakat Indonesia yang di dalam satu genggaman semua bisa terhubung melalui messenger, bertegur sapa melalui media sosial, produktif dengan marketplace, dan serba mudah dengan fintech-nya.', 'Jadi dalam satu aplikasi semua ada, dan ini koperasi kami ingin persembahkan untuk Indonesia,\" ungkap Basyar.', 'Basyar mengatakan token kripto ini dapat dijadikan komoditas bukan sebagai alat pembayaran, dan berharap ke depannya koperasi IDM mampu membantu sesama koperasi yang ada di Indonesia dari pusat hingga ke desa-desa.', '\"Token IDM yang supply-nya 1 Miliar ini bisa dibeli melaui DeFi jaringan Binance yaitu Pancake Swap.', 'Dan prosesnya bisa melalui exchange yang sudah terdaftar secara legal di Bappebti,\" katanya.', '\"Saya juga mengharapkan kepada seluruh masyarakat Indonesia yang ingin membeli token tersebut agar tidak lupa untuk melakukan riset mendalam di situs IDM Co-Op.\"', '\"Kami bersama Kemendag dan Kemenkop UKM ingin membuat something big terkait digitalisasi.', 'Bahkan pada pertengahan bulan ini, IDM bersama Wamendag Jerry Sambuaga akan mengadakan bersama sebuah event AMA (Ask Me Anything) yang isinya menjawab semua pertanyaa soal ICO tersebut,\" papar Basyar lebih jauh.']\n"
          ]
        }
      ]
    },
    {
      "cell_type": "markdown",
      "metadata": {
        "id": "0Ltc0JwHVJrA"
      },
      "source": [
        "Greeting"
      ]
    },
    {
      "cell_type": "code",
      "metadata": {
        "id": "UcWzsbZ_VLwn"
      },
      "source": [
        "def greeting_response(text):\n",
        "  text = text.lower()\n",
        "\n",
        "  ### bot greeting \n",
        "  bot_greet = ['halo', 'selamat datang', 'hai', 'silahkan '] \n",
        "\n",
        "  ### user greeting \n",
        "  user_greet= ['halo', 'pagi', 'siang', 'malam', 'test', 'hai']  \n",
        "\n",
        "  for word in text.split(): \n",
        "    if word in user_greet:\n",
        "      return random.choice(bot_greet)\n",
        "\n",
        "  def gratitude_response(text): \n",
        "    text = text.lower() "
      ],
      "execution_count": null,
      "outputs": []
    },
    {
      "cell_type": "markdown",
      "metadata": {
        "id": "TjrAlfnmVPEN"
      },
      "source": [
        "sorting"
      ]
    },
    {
      "cell_type": "code",
      "metadata": {
        "id": "QAFx-OBrVOuX"
      },
      "source": [
        "def index_sort(list_var):\n",
        "    length = len(list_var)\n",
        "    list_index = list(range(0, length))\n",
        "    \n",
        "    x = list_var        \n",
        "    for i in range(length):\n",
        "        for j in range(length):\n",
        "            if x[list_index[i]] > x[list_index[j]]:\n",
        "                #swap\n",
        "                temp = list_index[i]\n",
        "                list_index[i] = list_index[j]\n",
        "                list_index[j] = temp\n",
        "                \n",
        "    return list_index"
      ],
      "execution_count": null,
      "outputs": []
    },
    {
      "cell_type": "markdown",
      "metadata": {
        "id": "6JX_5KxPVR1L"
      },
      "source": [
        "COSINE SIM"
      ]
    },
    {
      "cell_type": "code",
      "metadata": {
        "id": "wECOINPgVXp8"
      },
      "source": [
        "### bot response \n",
        "def bot_response(user_input): \n",
        "  user_input = user_input.lower()\n",
        "  sentence_list.append(user_input)\n",
        "  bot_response= ''\n",
        "  \n",
        "  cm = CountVectorizer().fit_transform(sentence_list)\n",
        "\n",
        "  similarity_scores=cosine_similarity(cm[-1],cm) \n",
        "  similarity_scores_list=similarity_scores.flatten() \n",
        "  index=index_sort(similarity_scores_list)\n",
        "  index=index[1:]\n",
        "\n",
        "  response_flag=0 \n",
        "  for i in range(len(index)):\n",
        "      if similarity_scores_list[index[i]]>0.0:\n",
        "            bot_response=bot_response+' '+sentence_list[index[i]]\n",
        "            response_flag=1\n",
        "\n",
        "      if response_flag==0:\n",
        "            bot_response=bot_response+\" \"+\"Maaf saya tidak mengerti\" \n",
        "\n",
        "      sentence_list.remove(user_input) \n",
        "\n",
        "      return bot_response"
      ],
      "execution_count": null,
      "outputs": []
    },
    {
      "cell_type": "markdown",
      "metadata": {
        "id": "PZ1hArdZVrwE"
      },
      "source": [
        "Making Chat Box"
      ]
    },
    {
      "cell_type": "code",
      "metadata": {
        "colab": {
          "base_uri": "https://localhost:8080/"
        },
        "id": "FPldqXfyVrW5",
        "outputId": "5640ce51-9c4b-4f75-a6f2-2e2b83fe49c6"
      },
      "source": [
        "print('Halo selamat datang di CrpytoChatBot, silahkan bertanya tentang crypto')\n",
        "\n",
        "### exit list \n",
        "exit_list = ['exit ', 'selesai', 'sampai jumpa', 'akhiri']\n",
        "\n",
        "while(True): \n",
        "  user_input = input()\n",
        "  if user_input in exit_list :\n",
        "    print('Terimakasih sudah menggunakan CrpytoChatBot semoga harimu menyenangkan')\n",
        "    break \n",
        "  else : \n",
        "    if greeting_response(user_input)!= None: \n",
        "      print('CrpytoChatBot: '+ greeting_response(user_input)) \n",
        "    else:\n",
        "      print('CrpytoChatBot: '+ bot_response(user_input)) "
      ],
      "execution_count": null,
      "outputs": [
        {
          "output_type": "stream",
          "name": "stdout",
          "text": [
            "Halo selamat datang di CrpytoChatBot, silahkan bertanya tentang crypto\n",
            "halo\n",
            "CrpytoChatBot: halo\n",
            "pagi\n",
            "CrpytoChatBot: silahkan \n",
            "elon musk\n",
            "CrpytoChatBot:  Foto: Elon Musk mengungkap koin kripto yang dimilikinya (Doc.\n",
            "koin di indonesia\n",
            "CrpytoChatBot:  Berita ini telah tayang di Kontan.co.id dengan judul: Mengenal lebih jauh aset kripto dari IndonesiaJakarta, CNBC Indonesia - Cryptocurrency 'Made In Indonesia' bakal meramaikan pasar koin digital.\n",
            "koin digital\n",
            "CrpytoChatBot:  Ternyata ia tidak memiliki koin digital itu.\n",
            "cryptocurrency\n",
            "CrpytoChatBot:  Jakarta, CNBC Indonesia - Orang terkaya di dunia Elon Musk punya pengaruh besar di dunia cryptocurrency (uang kripto).\n",
            "apa saja koin digital yang ada saat ini\n",
            "CrpytoChatBot:  Jadi tak mengherankan jika saat ini sudah ada beberapa aset kripto yang berasal dari dalam negeri.\n",
            "koin digital dari indonesia\n",
            "CrpytoChatBot:  Berita ini telah tayang di Kontan.co.id dengan judul: Mengenal lebih jauh aset kripto dari IndonesiaJakarta, CNBC Indonesia - Cryptocurrency 'Made In Indonesia' bakal meramaikan pasar koin digital.\n",
            "Aplikasi\n",
            "CrpytoChatBot:  Jadi dalam satu aplikasi semua ada, dan ini koperasi kami ingin persembahkan untuk Indonesia,\" ungkap Basyar.\n",
            "cara trading cryptocurrency\n",
            "CrpytoChatBot:  \"Saat ini dalam mencari untung trading, kripto pun bisa dijadikan solusi sebagai pembiayaan proyek suatu perusahaan atau lembaga bahkan komunitas.\n",
            "selesai\n",
            "Terimakasih sudah menggunakan CrpytoChatBot semoga harimu menyenangkan\n"
          ]
        }
      ]
    }
  ]
}